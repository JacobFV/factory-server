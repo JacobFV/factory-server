{
 "cells": [
  {
   "cell_type": "code",
   "execution_count": null,
   "metadata": {},
   "outputs": [],
   "source": [
    "import pygame\n",
    "import pygame.camera\n",
    " \n",
    "# Captured image dimensions. It should be less than or equal to the maximum dimensions acceptable by the camera.\n",
    "width = 320\n",
    "height = 240\n",
    "\n",
    "# Initializing PyGame and the camera.\n",
    "pygame.init()\n",
    "pygame.camera.init()\n",
    "\n",
    "# Specifying the camera to be used for capturing images. If there is a single camera, then it have the index 0.\n",
    "cam = pygame.camera.Camera(\"/dev/video0\",(width,height))\n",
    "\n",
    "# Preparing a resizable window of the specified size for displaying the captured images.\n",
    "window = pygame.display.set_mode((width,height),pygame.RESIZABLE)\n",
    "\n",
    "# Starting the camera for capturing images.\n",
    "cam.start()\n",
    "\n",
    "# Capturing an image.\n",
    "image = cam.get_image()\n",
    "\n",
    "# Stopping the camera.\n",
    "cam.stop()\n",
    "\n",
    "# Displaying the image on the window starting from the top-left corner.\n",
    "window.blit(image,(0,0))\n",
    "\n",
    "# Refreshing the window.\n",
    "pygame.display.update()\n",
    "\n",
    "# Saving the captured image.\n",
    "pygame.image.save(window,'PyGame_image.jpg')"
   ]
  }
 ],
 "metadata": {
  "kernelspec": {
   "display_name": "Python 3",
   "language": "python",
   "name": "python3"
  },
  "language_info": {
   "codemirror_mode": {
    "name": "ipython",
    "version": 3
   },
   "file_extension": ".py",
   "mimetype": "text/x-python",
   "name": "python",
   "nbconvert_exporter": "python",
   "pygments_lexer": "ipython3",
   "version": "3.7.3"
  }
 },
 "nbformat": 4,
 "nbformat_minor": 4
}
